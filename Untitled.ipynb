{
 "cells": [
  {
   "cell_type": "code",
   "execution_count": 1,
   "metadata": {},
   "outputs": [
    {
     "name": "stderr",
     "output_type": "stream",
     "text": [
      "To use data.metrics please install scikit-learn. See https://scikit-learn.org/stable/index.html\n"
     ]
    }
   ],
   "source": [
    "from lib.robots import check_robots_txt\n",
    "from lib.shingling import *\n",
    "from lib.renderer import *\n",
    "from lib.crawler import crawl_url\n",
    "from lib.data import *\n",
    "from lib.normalize import normalize_corpus\n",
    "from main import *\n",
    "\n",
    "import json\n",
    "\n",
    "from web.site_generator import build_site_data, build_sites\n",
    "from web.publish import Publish\n",
    "\n",
    "import config as cfg"
   ]
  },
  {
   "cell_type": "code",
   "execution_count": null,
   "metadata": {},
   "outputs": [],
   "source": [
    "crawler = Crawler()"
   ]
  },
  {
   "cell_type": "code",
   "execution_count": 2,
   "metadata": {},
   "outputs": [
    {
     "name": "stdout",
     "output_type": "stream",
     "text": [
      "Crawling: https://data-science-blog.github.io/Customer-Data-Platform/\n",
      "Crawling: https://data-science-blog.github.io/about\n",
      "Crawling: https://data-science-blog.github.io/categories\n",
      "Crawling: https://data-science-blog.github.io/Consistency-Database-Systems/\n",
      "Crawling: https://python-software.github.io/Eric-Software\n",
      "Crawling: https://data-science-blog.github.io/\n",
      "Crawling: https://data-science-blog.github.io/Big-Data\n",
      "Crawling: https://data-science-blog.github.io/Data\n",
      "Crawling: https://data-science-blog.github.io/Data/\n",
      "Crawling: https://data-science-blog.github.io/Chief-Data-Officer/\n",
      "Crawling: https://data-science-blog.github.io/Black-Swan-Data/\n",
      "Crawling: https://data-science-blog.github.io/Coding-Bootcamp/\n",
      "Crawling: https://data-science-blog.github.io/Committee-On-Data-For-Science-And-Technology/\n",
      "Crawling: https://data-science-blog.github.io/Dataintensive-Computing/\n",
      "Crawling: https://data-science-blog.github.io/Berkeley-Institute-For-Data-Science/\n",
      "Crawling: https://data-science-blog.github.io/Big-Data/\n",
      "Crawling: https://python-software.github.io/Core-Python-Programming\n",
      "Crawling: https://python-software.github.io/about\n",
      "Crawling: https://python-software.github.io/categories\n",
      "Crawling: https://python-software.github.io/Core-Python-Programming/\n",
      "Crawling: https://python-software.github.io/History-Of-Python\n",
      "Crawling: https://python-software.github.io/History-Of-Python/\n",
      "Crawling: https://python-software.github.io/\n",
      "Crawling: https://data-science-blog.github.io/page2/\n",
      "Crawling: https://python-software.github.io/Anaconda-Python-Distribution\n",
      "Crawling: https://python-software.github.io/Intel-Parallel-Studio\n",
      "Crawling: https://search-engine-optimization-blog.github.io/Google-Custom-Search\n",
      "Crawling: https://data-science-blog.github.io/Committee-On-Data-For-Science-And-Technology\n",
      "Crawling: https://search-engine-optimization-blog.github.io/Google-Search\n",
      "Crawling: https://data-science-blog.github.io/Customer-Data-Platform\n",
      "Crawling: https://python-software.github.io/Comparison-Of-Integrated-Development-Environments\n",
      "Crawling: https://search-engine-optimization-blog.github.io/Contextual-Advertising\n",
      "Crawling: https://data-science-blog.github.io/Berkeley-Institute-For-Data-Science\n",
      "Crawling: https://search-engine-optimization-blog.github.io/Audio-Search-Engine\n",
      "Crawling: https://python-software.github.io/Comparison-Of-Integrated-Development-Environments/\n",
      "Crawling: https://python-software.github.io/Eric-Software/\n",
      "Crawling: https://python-software.github.io/Anaconda-Python-Distribution/\n",
      "Crawling: https://python-software.github.io/Activestate/\n",
      "Crawling: https://python-software.github.io/Intel-Parallel-Studio/\n",
      "Crawling: https://python-software.github.io/Biopython/\n",
      "Crawling: https://python-software.github.io/Idle/\n",
      "Crawling: https://python-software.github.io/Ironpython/\n",
      "Crawling: https://python-software.github.io/Circuitpython/\n",
      "Crawling: https://search-engine-optimization-blog.github.io/Clean-Url\n",
      "Crawling: https://python-software.github.io/page2/\n",
      "Crawling: https://search-engine-optimization-blog.github.io/\n",
      "Crawling: https://search-engine-optimization-blog.github.io/Fulltext-Search/\n",
      "Crawling: https://search-engine-optimization-blog.github.io/Google-Search/\n",
      "Crawling: https://search-engine-optimization-blog.github.io/categories\n",
      "Crawling: https://search-engine-optimization-blog.github.io/about\n",
      "Crawling: https://search-engine-optimization-blog.github.io/Google-Custom-Search/\n",
      "Crawling: https://data-science-blog.github.io/Consistency-Database-Systems\n",
      "Crawling: https://data-science-blog.github.io/Black-Swan-Data\n",
      "Crawling: https://search-engine-optimization-blog.github.io/Clean-Url/\n",
      "Crawling: https://search-engine-optimization-blog.github.io/Danny-Sullivan-Technologist/\n",
      "Crawling: https://search-engine-optimization-blog.github.io/Archie-Search-Engine/\n",
      "Crawling: https://search-engine-optimization-blog.github.io/Barry-Schwartz-Technologist/\n",
      "Crawling: https://search-engine-optimization-blog.github.io/Contextual-Advertising/\n",
      "Crawling: https://search-engine-optimization-blog.github.io/page2/\n",
      "Crawling: https://search-engine-optimization-blog.github.io/Dragonfly-Search-Engine/\n",
      "Crawling: https://search-engine-optimization-blog.github.io/Audio-Search-Engine/\n",
      "Crawling: https://data-science-blog.github.io/Chief-Data-Officer\n"
     ]
    }
   ],
   "source": [
    "crawler = Crawler()\n",
    "crawler.crawl('https://data-science-blog.github.io/Customer-Data-Platform/')"
   ]
  },
  {
   "cell_type": "code",
   "execution_count": 31,
   "metadata": {},
   "outputs": [
    {
     "data": {
      "text/html": [
       "<div>\n",
       "<style scoped>\n",
       "    .dataframe tbody tr th:only-of-type {\n",
       "        vertical-align: middle;\n",
       "    }\n",
       "\n",
       "    .dataframe tbody tr th {\n",
       "        vertical-align: top;\n",
       "    }\n",
       "\n",
       "    .dataframe thead th {\n",
       "        text-align: right;\n",
       "    }\n",
       "</style>\n",
       "<table border=\"1\" class=\"dataframe\">\n",
       "  <thead>\n",
       "    <tr style=\"text-align: right;\">\n",
       "      <th></th>\n",
       "      <th>authors</th>\n",
       "      <th>cleaned_text</th>\n",
       "      <th>content</th>\n",
       "      <th>domain</th>\n",
       "      <th>final_url</th>\n",
       "      <th>headers</th>\n",
       "      <th>html</th>\n",
       "      <th>image</th>\n",
       "      <th>link_hash</th>\n",
       "      <th>links</th>\n",
       "      <th>meta</th>\n",
       "      <th>movies</th>\n",
       "      <th>opengraph</th>\n",
       "      <th>publish_date</th>\n",
       "      <th>status</th>\n",
       "      <th>tags</th>\n",
       "      <th>title</th>\n",
       "      <th>tweets</th>\n",
       "    </tr>\n",
       "  </thead>\n",
       "  <tbody>\n",
       "    <tr>\n",
       "      <th>0</th>\n",
       "      <td>[]</td>\n",
       "      <td>A customer data platform (CDP) is a type of pa...</td>\n",
       "      <td>A customer data platform (CDP) is a type of pa...</td>\n",
       "      <td>data-science-blog.github.io</td>\n",
       "      <td>https://data-science-blog.github.io/Customer-D...</td>\n",
       "      <td>[Server, Content-Type, Strict-Transport-Securi...</td>\n",
       "      <td>&lt;!DOCTYPE html&gt; &lt;html lang=\"en\"&gt; &lt;head&gt; &lt;meta ...</td>\n",
       "      <td>None</td>\n",
       "      <td>2b06010e79206d9a8278eb3f6072b6f8.1574305931.81...</td>\n",
       "      <td>[{'href': 'https://data-science-blog.github.io...</td>\n",
       "      <td>{'description': 'A customer data platform (CDP...</td>\n",
       "      <td>[]</td>\n",
       "      <td>{'title': 'Customer Data Platform Data Science...</td>\n",
       "      <td>2019-11-15T00:00:00+00:00</td>\n",
       "      <td>200.0</td>\n",
       "      <td>[]</td>\n",
       "      <td>Customer Data Platform Data Science</td>\n",
       "      <td>[]</td>\n",
       "    </tr>\n",
       "    <tr>\n",
       "      <th>1</th>\n",
       "      <td>[]</td>\n",
       "      <td>This is a site that is auto-generated from wik...</td>\n",
       "      <td>This is a site that is auto-generated from wik...</td>\n",
       "      <td>data-science-blog.github.io</td>\n",
       "      <td>https://data-science-blog.github.io/about/</td>\n",
       "      <td>[Server, Content-Type, Strict-Transport-Securi...</td>\n",
       "      <td>&lt;!DOCTYPE html&gt; &lt;html lang=\"en\"&gt; &lt;head&gt; &lt;meta ...</td>\n",
       "      <td>None</td>\n",
       "      <td>43b74a7f665407e3fd64005501fc0eb2.1574305932.21...</td>\n",
       "      <td>[{'href': 'https://data-science-blog.github.io...</td>\n",
       "      <td>{'description': 'Demo site generated from Wiki...</td>\n",
       "      <td>[]</td>\n",
       "      <td>{'title': 'About', 'locale': 'en_US', 'descrip...</td>\n",
       "      <td>None</td>\n",
       "      <td>200.0</td>\n",
       "      <td>[]</td>\n",
       "      <td>About</td>\n",
       "      <td>[]</td>\n",
       "    </tr>\n",
       "    <tr>\n",
       "      <th>2</th>\n",
       "      <td>[]</td>\n",
       "      <td></td>\n",
       "      <td></td>\n",
       "      <td>data-science-blog.github.io</td>\n",
       "      <td>https://data-science-blog.github.io/categories/</td>\n",
       "      <td>[Server, Content-Type, Strict-Transport-Securi...</td>\n",
       "      <td>&lt;!DOCTYPE html&gt; &lt;html lang=\"en\"&gt; &lt;head&gt; &lt;meta ...</td>\n",
       "      <td>None</td>\n",
       "      <td>01b77b54702433a4737dfe91d4347d24.1574305932.37...</td>\n",
       "      <td>[{'href': 'https://data-science-blog.github.io...</td>\n",
       "      <td>{'description': 'Demo site generated from Wiki...</td>\n",
       "      <td>[]</td>\n",
       "      <td>{'title': 'Categories', 'locale': 'en_US', 'de...</td>\n",
       "      <td>None</td>\n",
       "      <td>200.0</td>\n",
       "      <td>[]</td>\n",
       "      <td>Categories</td>\n",
       "      <td>[]</td>\n",
       "    </tr>\n",
       "    <tr>\n",
       "      <th>3</th>\n",
       "      <td>[]</td>\n",
       "      <td>Consistency in database systems refers to the ...</td>\n",
       "      <td>Consistency in database systems refers to the ...</td>\n",
       "      <td>data-science-blog.github.io</td>\n",
       "      <td>https://data-science-blog.github.io/Consistenc...</td>\n",
       "      <td>[Server, Content-Type, Strict-Transport-Securi...</td>\n",
       "      <td>&lt;!DOCTYPE html&gt; &lt;html lang=\"en\"&gt; &lt;head&gt; &lt;meta ...</td>\n",
       "      <td>None</td>\n",
       "      <td>7c0cd0812991c8e701cb09fd21f09c13.1574305932.56...</td>\n",
       "      <td>[{'href': 'https://data-science-blog.github.io...</td>\n",
       "      <td>{'description': 'Consistency in database syste...</td>\n",
       "      <td>[]</td>\n",
       "      <td>{'title': 'Consistency Database Systems Data S...</td>\n",
       "      <td>2019-11-15T00:00:00+00:00</td>\n",
       "      <td>200.0</td>\n",
       "      <td>[]</td>\n",
       "      <td>Consistency Database Systems Data Science</td>\n",
       "      <td>[]</td>\n",
       "    </tr>\n",
       "    <tr>\n",
       "      <th>4</th>\n",
       "      <td>[]</td>\n",
       "      <td>eric is a free integrated development environm...</td>\n",
       "      <td>eric is a free integrated development environm...</td>\n",
       "      <td>python-software.github.io</td>\n",
       "      <td>https://python-software.github.io/Eric-Software/</td>\n",
       "      <td>[Server, Content-Type, Strict-Transport-Securi...</td>\n",
       "      <td>&lt;!DOCTYPE html&gt; &lt;html lang=\"en\"&gt; &lt;head&gt; &lt;meta ...</td>\n",
       "      <td>None</td>\n",
       "      <td>2e1590e21131f74ea1a86a7700d446dc.1574305932.86...</td>\n",
       "      <td>[{'href': 'https://python-software.github.io/'...</td>\n",
       "      <td>{'description': 'eric is a free integrated dev...</td>\n",
       "      <td>[]</td>\n",
       "      <td>{'title': 'Eric Software Python Software', 'lo...</td>\n",
       "      <td>2019-11-15T00:00:00+00:00</td>\n",
       "      <td>200.0</td>\n",
       "      <td>[]</td>\n",
       "      <td>Eric Software Python Software</td>\n",
       "      <td>[]</td>\n",
       "    </tr>\n",
       "  </tbody>\n",
       "</table>\n",
       "</div>"
      ],
      "text/plain": [
       "  authors                                       cleaned_text  \\\n",
       "0      []  A customer data platform (CDP) is a type of pa...   \n",
       "1      []  This is a site that is auto-generated from wik...   \n",
       "2      []                                                      \n",
       "3      []  Consistency in database systems refers to the ...   \n",
       "4      []  eric is a free integrated development environm...   \n",
       "\n",
       "                                             content  \\\n",
       "0  A customer data platform (CDP) is a type of pa...   \n",
       "1  This is a site that is auto-generated from wik...   \n",
       "2                                                      \n",
       "3  Consistency in database systems refers to the ...   \n",
       "4  eric is a free integrated development environm...   \n",
       "\n",
       "                        domain  \\\n",
       "0  data-science-blog.github.io   \n",
       "1  data-science-blog.github.io   \n",
       "2  data-science-blog.github.io   \n",
       "3  data-science-blog.github.io   \n",
       "4    python-software.github.io   \n",
       "\n",
       "                                           final_url  \\\n",
       "0  https://data-science-blog.github.io/Customer-D...   \n",
       "1         https://data-science-blog.github.io/about/   \n",
       "2    https://data-science-blog.github.io/categories/   \n",
       "3  https://data-science-blog.github.io/Consistenc...   \n",
       "4   https://python-software.github.io/Eric-Software/   \n",
       "\n",
       "                                             headers  \\\n",
       "0  [Server, Content-Type, Strict-Transport-Securi...   \n",
       "1  [Server, Content-Type, Strict-Transport-Securi...   \n",
       "2  [Server, Content-Type, Strict-Transport-Securi...   \n",
       "3  [Server, Content-Type, Strict-Transport-Securi...   \n",
       "4  [Server, Content-Type, Strict-Transport-Securi...   \n",
       "\n",
       "                                                html image  \\\n",
       "0  <!DOCTYPE html> <html lang=\"en\"> <head> <meta ...  None   \n",
       "1  <!DOCTYPE html> <html lang=\"en\"> <head> <meta ...  None   \n",
       "2  <!DOCTYPE html> <html lang=\"en\"> <head> <meta ...  None   \n",
       "3  <!DOCTYPE html> <html lang=\"en\"> <head> <meta ...  None   \n",
       "4  <!DOCTYPE html> <html lang=\"en\"> <head> <meta ...  None   \n",
       "\n",
       "                                           link_hash  \\\n",
       "0  2b06010e79206d9a8278eb3f6072b6f8.1574305931.81...   \n",
       "1  43b74a7f665407e3fd64005501fc0eb2.1574305932.21...   \n",
       "2  01b77b54702433a4737dfe91d4347d24.1574305932.37...   \n",
       "3  7c0cd0812991c8e701cb09fd21f09c13.1574305932.56...   \n",
       "4  2e1590e21131f74ea1a86a7700d446dc.1574305932.86...   \n",
       "\n",
       "                                               links  \\\n",
       "0  [{'href': 'https://data-science-blog.github.io...   \n",
       "1  [{'href': 'https://data-science-blog.github.io...   \n",
       "2  [{'href': 'https://data-science-blog.github.io...   \n",
       "3  [{'href': 'https://data-science-blog.github.io...   \n",
       "4  [{'href': 'https://python-software.github.io/'...   \n",
       "\n",
       "                                                meta movies  \\\n",
       "0  {'description': 'A customer data platform (CDP...     []   \n",
       "1  {'description': 'Demo site generated from Wiki...     []   \n",
       "2  {'description': 'Demo site generated from Wiki...     []   \n",
       "3  {'description': 'Consistency in database syste...     []   \n",
       "4  {'description': 'eric is a free integrated dev...     []   \n",
       "\n",
       "                                           opengraph  \\\n",
       "0  {'title': 'Customer Data Platform Data Science...   \n",
       "1  {'title': 'About', 'locale': 'en_US', 'descrip...   \n",
       "2  {'title': 'Categories', 'locale': 'en_US', 'de...   \n",
       "3  {'title': 'Consistency Database Systems Data S...   \n",
       "4  {'title': 'Eric Software Python Software', 'lo...   \n",
       "\n",
       "                publish_date  status tags  \\\n",
       "0  2019-11-15T00:00:00+00:00   200.0   []   \n",
       "1                       None   200.0   []   \n",
       "2                       None   200.0   []   \n",
       "3  2019-11-15T00:00:00+00:00   200.0   []   \n",
       "4  2019-11-15T00:00:00+00:00   200.0   []   \n",
       "\n",
       "                                       title tweets  \n",
       "0        Customer Data Platform Data Science     []  \n",
       "1                                      About     []  \n",
       "2                                 Categories     []  \n",
       "3  Consistency Database Systems Data Science     []  \n",
       "4              Eric Software Python Software     []  "
      ]
     },
     "execution_count": 31,
     "metadata": {},
     "output_type": "execute_result"
    }
   ],
   "source": [
    "crawler.doc_index.head()"
   ]
  },
  {
   "cell_type": "code",
   "execution_count": 3,
   "metadata": {},
   "outputs": [],
   "source": [
    "docs = crawler.doc_index['cleaned_text'].tolist()\n",
    "\n"
   ]
  },
  {
   "cell_type": "code",
   "execution_count": 5,
   "metadata": {},
   "outputs": [],
   "source": [
    "docs_norm = normalize_corpus(docs, lemmatize=False,\n",
    "                     only_text_chars=True,\n",
    "                     tokenize=True, sort_text=False)"
   ]
  },
  {
   "cell_type": "code",
   "execution_count": 9,
   "metadata": {},
   "outputs": [],
   "source": [
    "import gensim\n",
    "from gensim.summarization.bm25 import get_bm25_weights\n",
    "\n",
    "result = get_bm25_weights(docs_norm, n_jobs=-1)"
   ]
  },
  {
   "cell_type": "code",
   "execution_count": 15,
   "metadata": {},
   "outputs": [],
   "source": [
    "bm = gensim.summarization.bm25.BM25(docs_norm)"
   ]
  },
  {
   "cell_type": "code",
   "execution_count": 29,
   "metadata": {},
   "outputs": [
    {
     "data": {
      "text/plain": [
       "62"
      ]
     },
     "execution_count": 29,
     "metadata": {},
     "output_type": "execute_result"
    }
   ],
   "source": [
    "len(bm.get_scores(['audio','search','engine']))"
   ]
  },
  {
   "cell_type": "code",
   "execution_count": 30,
   "metadata": {},
   "outputs": [
    {
     "data": {
      "text/plain": [
       "[(6, 0.4997381532247517),\n",
       " (15, 0.4997381532247517),\n",
       " (28, 0.6711388166409896),\n",
       " (33, 5.1591236223337065),\n",
       " (47, 0.6711388166409896),\n",
       " (60, 5.1591236223337065)]"
      ]
     },
     "execution_count": 30,
     "metadata": {},
     "output_type": "execute_result"
    }
   ],
   "source": [
    "bm.get_scores_bow(['audio'])"
   ]
  },
  {
   "cell_type": "markdown",
   "metadata": {},
   "source": [
    "## Crawl Page"
   ]
  },
  {
   "cell_type": "code",
   "execution_count": null,
   "metadata": {},
   "outputs": [],
   "source": [
    "url = \"https://locomotive.agency/jfkaljflsjf/\"\n",
    "page_data = crawl_url(url)\n",
    "print(\"## Status \" + \"#\"*20 + \"\\n\")\n",
    "print(page_data['status'])\n",
    "print(\"\\n## Meta \" + \"#\"*20 + \"\\n\")\n",
    "print(json.dumps(page_data['meta'], indent=4))\n",
    "print(\"\\n## Content \" + \"#\"*20 + \"\\n\")\n",
    "print(page_data['content'])"
   ]
  },
  {
   "cell_type": "code",
   "execution_count": null,
   "metadata": {},
   "outputs": [],
   "source": []
  },
  {
   "cell_type": "markdown",
   "metadata": {},
   "source": [
    "## Shingling"
   ]
  },
  {
   "cell_type": "code",
   "execution_count": null,
   "metadata": {},
   "outputs": [],
   "source": [
    "content1 = \"\"\"Many packages don't create a build for every single release which forces your pip to build from source. If you're happy to use the latest pre-compiled binary version, use --only-binary :all: to allow pip to use an older binary version.\"\"\"\n",
    "content2 = \"\"\"Most packages don't create a build for every single release which forces your pip to build from source. If you're happy to use the latest pre-compiled binary version, use --only-binary :all: to allow pip to use an older binary version.\"\"\"\n",
    "content3 = \"\"\"The C++ Build Tools allow you to build C++ libraries and applications targeting Windows desktop. They are the same tools that you find in Visual Studio 2019, Visual Studio 2017, and Visual Studio 2015 in a scriptable standalone installer. Now you only need to download the MSVC compiler toolset you need to build C++ projects on your build servers.\"\"\"\n",
    "\n",
    "\n",
    "hashdb = HashLookup()\n",
    "\n",
    "hashdb.add_hash('content1', content1)\n",
    "hashdb.add_hash('content2', content2)\n",
    "hashdb.add_hash('content3', content3)\n",
    "\n",
    "print(\"## Hashes \" + \"#\"*20 + \"\\n\")\n",
    "print(hashdb.get_hash('content1')[:5])\n",
    "print(hashdb.get_hash('content2')[:5])\n",
    "print(hashdb.get_hash('content3')[:5])\n",
    "print(\"\\n## Length \" + \"#\"*20 + \"\\n\")\n",
    "print(len(hashdb))\n",
    "print(\"\\n## Similarity \" + \"#\"*20 + \"\\n\")\n",
    "print(hashdb.get_similarity_df(content2))"
   ]
  },
  {
   "cell_type": "markdown",
   "metadata": {},
   "source": [
    "## PageRank"
   ]
  },
  {
   "cell_type": "code",
   "execution_count": null,
   "metadata": {},
   "outputs": [],
   "source": [
    "url_list = ['urla', 'urlb', 'urlc', 'urld', 'urle']\n",
    "link_tuples = [('urla','urlb'), ('urlc','urlb'), ('urla','urle'), ('urle','urla'), ('urlc','urlb'), ('urld','urle'), ('urle','urlb')]\n",
    "\n",
    "pr_valid = {'url': {0: 'urlb', 1: 'urle', 2: 'urla', 3: 'urld', 4: 'urlc'}, 'score': {0: 0.3625498007448575, 1: 0.2544205750109898, 2: 0.19976269190396267, 3: 0.09163346617009499, 4: 0.09163346617009499}}\n",
    "df = build_pagerank_df(url_list, link_tuples)\n",
    "\n",
    "print(\"## PageRank \" + \"#\"*20 + \"\\n\")\n",
    "print(df)"
   ]
  },
  {
   "cell_type": "markdown",
   "metadata": {},
   "source": [
    "# Bert"
   ]
  },
  {
   "cell_type": "code",
   "execution_count": null,
   "metadata": {},
   "outputs": [],
   "source": [
    "from lib.bert import *\n",
    "\n",
    "queries = ['trim a chrismas tree', 'jog on a path', 'kindle ebook', 'italian restaurant', 'internet landing page']\n",
    "ngrams = ['decorate a tree', 'run on a road', 'electric book', 'cafe in italy', 'website homepage']\n",
    "\n",
    "bert = BERT(dims=None)\n",
    "bert.add_terms(ngrams)\n",
    "\n",
    "for q in queries:\n",
    "    best, sim = bert.get_most_similar(q)\n",
    "    print(\"Query: {} {} ===> Best Guess: {} ({})\".format(q, ' '*(25-len(q)), best, round(sim,4)))"
   ]
  }
 ],
 "metadata": {
  "kernelspec": {
   "display_name": "Python 3",
   "language": "python",
   "name": "python3"
  },
  "language_info": {
   "codemirror_mode": {
    "name": "ipython",
    "version": 3
   },
   "file_extension": ".py",
   "mimetype": "text/x-python",
   "name": "python",
   "nbconvert_exporter": "python",
   "pygments_lexer": "ipython3",
   "version": "3.7.5"
  }
 },
 "nbformat": 4,
 "nbformat_minor": 4
}
