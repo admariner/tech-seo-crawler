{
 "cells": [
  {
   "cell_type": "code",
   "execution_count": 1,
   "metadata": {},
   "outputs": [],
   "source": [
    "from lib.robots import check_robots_txt\n",
    "from lib.shingling import *\n",
    "from lib.renderer import *\n",
    "from lib.crawler import crawl_url\n",
    "from lib.database import *\n",
    "\n",
    "from web.site_generator import build_site_data, build_sites\n",
    "from web.publish import Publish\n",
    "\n",
    "import config as cfg"
   ]
  },
  {
   "cell_type": "code",
   "execution_count": 2,
   "metadata": {},
   "outputs": [],
   "source": [
    "content1 = \"\"\"Many packages don't create a build for every single release which forces your pip to build from source. If you're happy to use the latest pre-compiled binary version, use --only-binary :all: to allow pip to use an older binary version.\"\"\"\n",
    "content2 = \"\"\"Most packages don't create a build for every single release which forces your pip to build from source. If you're happy to use the latest pre-compiled binary version, use --only-binary :all: to allow pip to use an older binary version.\"\"\"\n",
    "content3 = \"\"\"The C++ Build Tools allow you to build C++ libraries and applications targeting Windows desktop. They are the same tools that you find in Visual Studio 2019, Visual Studio 2017, and Visual Studio 2015 in a scriptable standalone installer. Now you only need to download the MSVC compiler toolset you need to build C++ projects on your build servers.\"\"\"\n"
   ]
  },
  {
   "cell_type": "code",
   "execution_count": null,
   "metadata": {},
   "outputs": [],
   "source": []
  },
  {
   "cell_type": "code",
   "execution_count": 3,
   "metadata": {},
   "outputs": [
    {
     "data": {
      "text/plain": [
       "3"
      ]
     },
     "execution_count": 3,
     "metadata": {},
     "output_type": "execute_result"
    }
   ],
   "source": [
    "hashdb = HashLookup()\n",
    "\n",
    "hashdb.add_hash('content1', content1)\n",
    "hashdb.add_hash('content2', content2)\n",
    "hashdb.add_hash('content3', content3)\n",
    "\n",
    "len(hashdb)"
   ]
  },
  {
   "cell_type": "code",
   "execution_count": 4,
   "metadata": {},
   "outputs": [
    {
     "name": "stdout",
     "output_type": "stream",
     "text": [
      "[-2145608475, -2092676559, -2100324990, -2106062289, -2101729913]\n",
      "[-2145608475, -2092676559, -2100324990, -2106062289, -2101729913]\n",
      "[-2091386696, -2135102216, -2102983285, -2091906514, -2113156462]\n"
     ]
    }
   ],
   "source": [
    "print(hashdb.get_hash('content1')[:5])\n",
    "print(hashdb.get_hash('content2')[:5])\n",
    "print(hashdb.get_hash('content3')[:5])"
   ]
  },
  {
   "cell_type": "code",
   "execution_count": null,
   "metadata": {},
   "outputs": [],
   "source": [
    "hashdb.th = 0"
   ]
  },
  {
   "cell_type": "code",
   "execution_count": 9,
   "metadata": {},
   "outputs": [
    {
     "data": {
      "text/plain": [
       "['content2']"
      ]
     },
     "execution_count": 9,
     "metadata": {},
     "output_type": "execute_result"
    }
   ],
   "source": [
    "hashdb.get_similar(content2, threshold=0.9)"
   ]
  },
  {
   "cell_type": "code",
   "execution_count": 8,
   "metadata": {},
   "outputs": [
    {
     "data": {
      "text/html": [
       "<div>\n",
       "<style scoped>\n",
       "    .dataframe tbody tr th:only-of-type {\n",
       "        vertical-align: middle;\n",
       "    }\n",
       "\n",
       "    .dataframe tbody tr th {\n",
       "        vertical-align: top;\n",
       "    }\n",
       "\n",
       "    .dataframe thead th {\n",
       "        text-align: right;\n",
       "    }\n",
       "</style>\n",
       "<table border=\"1\" class=\"dataframe\">\n",
       "  <thead>\n",
       "    <tr style=\"text-align: right;\">\n",
       "      <th></th>\n",
       "      <th>url</th>\n",
       "      <th>sim</th>\n",
       "    </tr>\n",
       "  </thead>\n",
       "  <tbody>\n",
       "    <tr>\n",
       "      <th>1</th>\n",
       "      <td>content2</td>\n",
       "      <td>1.000000</td>\n",
       "    </tr>\n",
       "    <tr>\n",
       "      <th>0</th>\n",
       "      <td>content1</td>\n",
       "      <td>0.886792</td>\n",
       "    </tr>\n",
       "    <tr>\n",
       "      <th>2</th>\n",
       "      <td>content3</td>\n",
       "      <td>0.000000</td>\n",
       "    </tr>\n",
       "  </tbody>\n",
       "</table>\n",
       "</div>"
      ],
      "text/plain": [
       "        url       sim\n",
       "1  content2  1.000000\n",
       "0  content1  0.886792\n",
       "2  content3  0.000000"
      ]
     },
     "execution_count": 8,
     "metadata": {},
     "output_type": "execute_result"
    }
   ],
   "source": [
    "hashdb.get_similarity_df(content2)"
   ]
  },
  {
   "cell_type": "code",
   "execution_count": null,
   "metadata": {},
   "outputs": [],
   "source": [
    "site_data = build_sites(cfg.sg_sites)"
   ]
  },
  {
   "cell_type": "code",
   "execution_count": null,
   "metadata": {},
   "outputs": [],
   "source": [
    "import os\n",
    "os.path.basename(site_data['folders'][0])"
   ]
  },
  {
   "cell_type": "code",
   "execution_count": null,
   "metadata": {},
   "outputs": [],
   "source": [
    "import re\n",
    "\n",
    "def add_links(sites, page):\n",
    "\n",
    "    slug    = page['page_slug']\n",
    "    content = page['page_content']\n",
    "\n",
    "    other_pages = [p for fdr in sites for p in sites[fdr] if p['page_slug'] != slug]\n",
    "\n",
    "    for op in other_pages:\n",
    "\n",
    "        op_topic = op['page_topic']\n",
    "        op_url = op['page_url']\n",
    "\n",
    "        content = re.sub(r\"({})+\".format(op_topic), r\"(\\1)[{}]\".format(op_url), content, 1, flags=re.I)\n",
    "\n",
    "\n",
    "    page['page_content'] = content\n",
    "\n",
    "    return page\n",
    "\n",
    "\n"
   ]
  },
  {
   "cell_type": "code",
   "execution_count": null,
   "metadata": {},
   "outputs": [],
   "source": [
    "tt = ['aa', 'aaa', 'aaaa', 'bbbbb']\n",
    "print(tt)\n",
    "ttt = [t for t in tt if len(t) == max([len(t) for t in tt])][0]\n",
    "print(ttt)"
   ]
  },
  {
   "cell_type": "code",
   "execution_count": null,
   "metadata": {},
   "outputs": [],
   "source": [
    "for site in sites:\n",
    "\n",
    "    pages = sites[site]\n",
    "\n",
    "    for page in pages:\n",
    "        \n",
    "        slug    = page['page_slug']\n",
    "        \n",
    "        #other_pages = [p for fdr in sites for p in sites[fdr] if p['page_slug'] != slug]\n",
    "        page = add_links(sites, page)"
   ]
  },
  {
   "cell_type": "code",
   "execution_count": null,
   "metadata": {},
   "outputs": [],
   "source": [
    "site_data"
   ]
  }
 ],
 "metadata": {
  "kernelspec": {
   "display_name": "Python 3",
   "language": "python",
   "name": "python3"
  },
  "language_info": {
   "codemirror_mode": {
    "name": "ipython",
    "version": 3
   },
   "file_extension": ".py",
   "mimetype": "text/x-python",
   "name": "python",
   "nbconvert_exporter": "python",
   "pygments_lexer": "ipython3",
   "version": "3.7.0"
  }
 },
 "nbformat": 4,
 "nbformat_minor": 2
}
